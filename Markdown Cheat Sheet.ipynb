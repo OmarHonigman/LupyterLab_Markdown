{
 "cells": [
  {
   "cell_type": "markdown",
   "id": "47022bf0-f738-45ee-b947-100b16e7dd98",
   "metadata": {},
   "source": [
    "# LupyterLab Markdown"
   ]
  },
  {
   "attachments": {
    "60366480-0994-4ad0-81f4-6183d4f8ef87.png": {
     "image/png": "[encoded data removed]"
    }
   },
   "cell_type": "markdown",
   "id": "6e82d0a8-30c5-4bc5-b5d5-750d124b8fc4",
   "metadata": {},
   "source": [
    "Un repaso rápido de algunas opciones del lenguaje markdown.<br>\n",
    "![image.png](attachment:60366480-0994-4ad0-81f4-6183d4f8ef87.png)"
   ]
  },
  {
   "cell_type": "markdown",
   "id": "13e4e0da-78e5-4f46-8bf3-43e9a1dc1608",
   "metadata": {},
   "source": [
    "## 1. Encabezados:"
   ]
  },
  {
   "cell_type": "code",
   "execution_count": 20,
   "id": "6a1ea7fa-4ffe-4740-9304-53aa589aa734",
   "metadata": {},
   "outputs": [],
   "source": [
    "# Utilizar \"#\" seguido de un espacio, te servirá para poner encabezados:\n",
    "# Encabezado nivel 1\n",
    "## Encabezado nivel 2 \n",
    "### Encabezado nivel 3 \n",
    "#### Encabezado nivel 4 "
   ]
  },
  {
   "cell_type": "markdown",
   "id": "183dfeb1-3f27-4e6d-8d83-34bb8ecc959c",
   "metadata": {},
   "source": [
    "# Encabezado nivel 1"
   ]
  },
  {
   "cell_type": "markdown",
   "id": "298888a1-2efc-4e5b-857d-7fdc1721caec",
   "metadata": {},
   "source": [
    "## Encabezado nivel 2 "
   ]
  },
  {
   "cell_type": "markdown",
   "id": "10305e65-9cba-43ed-a4d9-a7f8956a14d4",
   "metadata": {},
   "source": [
    "### Encabezado nivel 3 "
   ]
  },
  {
   "cell_type": "markdown",
   "id": "2a4a3922-3d3e-4694-b25a-41d13f0f749c",
   "metadata": {
    "tags": []
   },
   "source": [
    "#### Encabezado nivel 4"
   ]
  },
  {
   "cell_type": "markdown",
   "id": "5136c248-cfc5-415b-96fb-0b62cbcaf47e",
   "metadata": {},
   "source": [
    "---"
   ]
  },
  {
   "cell_type": "markdown",
   "id": "5efb9e5f-b1c0-4303-921f-854748946330",
   "metadata": {},
   "source": [
    "## 2. Formato de texto:"
   ]
  },
  {
   "cell_type": "markdown",
   "id": "0b2fa8b4-08e4-4d38-bc11-f178d70bdf71",
   "metadata": {
    "tags": []
   },
   "source": [
    "### 2.1 Salto de linea"
   ]
  },
  {
   "cell_type": "code",
   "execution_count": null,
   "id": "ef6972cf-f75e-4d5f-ad24-a5158d01176a",
   "metadata": {},
   "outputs": [],
   "source": [
    "# Algunas veces el texto no aparece en la siguiente línea, <br> te ayudara a que eso no ocurra. También puedes usar un doble espacio entre las palabras.\n",
    "Primera línea <br> \n",
    "Segunda línea"
   ]
  },
  {
   "cell_type": "markdown",
   "id": "c1304cb0-1071-4e0d-86b0-877a08eecad7",
   "metadata": {},
   "source": [
    "Primera línea <br> \n",
    "Segunda línea"
   ]
  },
  {
   "cell_type": "markdown",
   "id": "9b917f7d-30ac-4a10-87c7-f6efe2b65475",
   "metadata": {},
   "source": [
    "### 2.2 Texto en colores"
   ]
  },
  {
   "cell_type": "code",
   "execution_count": null,
   "id": "b66a113b-edfc-4a24-9b91-de8bfef70ecb",
   "metadata": {},
   "outputs": [],
   "source": [
    "# Texto coloreado. ¡Prueba con otros colores!\n",
    "<font color=red> Texto coloreado </font>"
   ]
  },
  {
   "cell_type": "markdown",
   "id": "be470ed9-6b56-4203-af00-28fa709dc182",
   "metadata": {
    "tags": []
   },
   "source": [
    "<font color=red> Texto coloreado </font>"
   ]
  },
  {
   "cell_type": "markdown",
   "id": "5f4925e1-ba5b-48f5-984d-a248537cdc6e",
   "metadata": {
    "tags": []
   },
   "source": [
    "### 2.3 Texto en **Negrita** / *Cursiva*"
   ]
  },
  {
   "cell_type": "code",
   "execution_count": null,
   "id": "57e30ce0-e20c-408e-ae06-c1f68e504318",
   "metadata": {},
   "outputs": [],
   "source": [
    "# Para resaltar un texto, colócalo  entre pares de asteriscos: **Texto**; en el caso de la cursiva, usa solo un par: *Cursiva*\n",
    "**Texto en negrita** / *texto en cursiva*"
   ]
  },
  {
   "cell_type": "markdown",
   "id": "6bdaf7a3-3a56-4e14-b73b-24bc3bd8b800",
   "metadata": {},
   "source": [
    "**Texto en negrita** / *texto en cursiva*\n"
   ]
  },
  {
   "cell_type": "markdown",
   "id": "dea8485e-6fad-441d-afd4-8ee962d31546",
   "metadata": {},
   "source": [
    "### 2.4 Fórmulas matemáticas"
   ]
  },
  {
   "cell_type": "code",
   "execution_count": null,
   "id": "46beeba1-571e-47da-b7b2-16775253545e",
   "metadata": {},
   "outputs": [],
   "source": [
    "# Las fórmulas y expresiones matemáticas se pueden escribir entre un par de \"$\":\n",
    "$(a + b)^2= (a + b)(a + b)$"
   ]
  },
  {
   "cell_type": "markdown",
   "id": "cd3916a1-0f67-47ce-b27c-c1c6e24302d0",
   "metadata": {},
   "source": [
    "$(a + b)^2= (a + b)(a + b)$"
   ]
  },
  {
   "cell_type": "markdown",
   "id": "47ee9455-3603-40eb-812a-79b6b4dd8499",
   "metadata": {},
   "source": [
    "### 2.5 Líneas horizontales"
   ]
  },
  {
   "cell_type": "code",
   "execution_count": null,
   "id": "a41f6458-4657-45af-a1ea-537a82eb0798",
   "metadata": {},
   "outputs": [],
   "source": [
    "# Útiles para separar secciones, puedes usar \"___\", \"---\" o \"***\"\n",
    "---"
   ]
  },
  {
   "cell_type": "markdown",
   "id": "d02473d8-5de2-4dcf-9ce1-084f5212f7b8",
   "metadata": {},
   "source": [
    "---"
   ]
  },
  {
   "cell_type": "markdown",
   "id": "ef92cb04-b7c7-409d-977a-2c03b53613fc",
   "metadata": {},
   "source": [
    "## 3. Listados:"
   ]
  },
  {
   "cell_type": "markdown",
   "id": "53d8eec4-dab5-42e2-83bc-c6ce244a50d7",
   "metadata": {},
   "source": [
    "### 3.1 Viñetas"
   ]
  },
  {
   "cell_type": "code",
   "execution_count": null,
   "id": "91e42af3-9da4-4846-881e-6329f321521a",
   "metadata": {},
   "outputs": [],
   "source": [
    "# Para usar viñetas puedes iniciar con \"*\" o \"-\" y un espacio vacío antes del texto. Si usas tab, podrás agregar niveles a la lista.\n",
    "- Sección 1\n",
    "- Sección 2\n",
    "    - Sección 2.1\n",
    "        - Sección 2.1.1\n",
    "            - Sección 2.1.1.1"
   ]
  },
  {
   "cell_type": "markdown",
   "id": "bd0cc918-999d-44c4-8526-619c5c6385ae",
   "metadata": {},
   "source": [
    "- Sección 1\n",
    "- Sección 2\n",
    "    - Sección 2.1\n",
    "        - Sección 2.1.1\n",
    "            - Sección 2.1.1.1"
   ]
  },
  {
   "cell_type": "markdown",
   "id": "38104d84-5431-47fb-997d-ad512ce3ced0",
   "metadata": {},
   "source": [
    "### 3.2 Listas numeradas"
   ]
  },
  {
   "cell_type": "code",
   "execution_count": null,
   "id": "1ffcd0fe-ea98-4895-9931-562700dfde91",
   "metadata": {},
   "outputs": [],
   "source": [
    "### 3.2 Listas numeradas\n",
    "# Solo hace falta agregar un número, seguido de un punto, para iniciar una lista numerada. Igual que el punto anterior, con tab se puede agregar más niveles. \n",
    "# Recuerda usar <br> en caso sea necesario.\n",
    "1. Texto A\n",
    "2. Texto B<br>\n",
    "    2.1 Texto C\n",
    "        2.2 Texto D"
   ]
  },
  {
   "cell_type": "markdown",
   "id": "4f07df56-8f11-4f5e-aa14-fe5c1d31f509",
   "metadata": {},
   "source": [
    "1. Texto A\n",
    "2. Texto B<br>\n",
    "    2.1 Texto C\n",
    "        2.2 Texto D"
   ]
  },
  {
   "cell_type": "markdown",
   "id": "7031aa32-0e66-4837-ba70-f57ade6f02d5",
   "metadata": {},
   "source": [
    "***"
   ]
  },
  {
   "cell_type": "markdown",
   "id": "adb854c7-a81a-4e29-9dcd-065d77acf3d1",
   "metadata": {},
   "source": [
    "## 4. Imágenes"
   ]
  },
  {
   "cell_type": "code",
   "execution_count": null,
   "id": "e60f1637-1df4-4e5c-93a9-330e4a5a33d6",
   "metadata": {},
   "outputs": [],
   "source": [
    "# Puedes añadir imágenes web, simplemente arrastrando y soltado. También puedes hacer capturas con \"Windows+Shift+S\" y pegándolas directamente.\n",
    "![images.jpg](attachment:47541c49-a4ad-4bd2-969f-abccfc8ea1ae.jpg)"
   ]
  },
  {
   "attachments": {
    "47541c49-a4ad-4bd2-969f-abccfc8ea1ae.jpg": {
     "image/jpeg": "[encoded data removed]"
    }
   },
   "cell_type": "markdown",
   "id": "76c25889-b5ae-4f30-8cd1-81e4fc1fd9cb",
   "metadata": {},
   "source": [
    "![images.jpg](attachment:47541c49-a4ad-4bd2-969f-abccfc8ea1ae.jpg)"
   ]
  },
  {
   "cell_type": "markdown",
   "id": "999e72ae-0f2b-46b5-aa2f-934c4bb381eb",
   "metadata": {},
   "source": [
    "***"
   ]
  },
  {
   "cell_type": "markdown",
   "id": "2b9f86c5-5282-4986-8f75-ecfe07f542c3",
   "metadata": {
    "tags": []
   },
   "source": [
    "## 5. Atajos del teclado"
   ]
  },
  {
   "cell_type": "markdown",
   "id": "076ff233-e72e-4f34-b168-aa32353ae63a",
   "metadata": {},
   "source": [
    "Los más utiles:<br>\n",
    "- $ctrl+enter$: Ejecuta solo la celda seleccionada.\n",
    "- $ctrl+S$: Guarda el notebook.\n",
    "- $A$: Inserta una celda encima.\n",
    "- $B$: Inserta una celda debajo.\n",
    "- $D,D$: Elimina la celda seleccionada, pulsar 2 veces.\n",
    "- $Y$: Cambia el tipo de celda a \"Code.\"\n",
    "- $M$: Cambia el tipo de celda a \"Markdown.\"\n"
   ]
  }
 ],
 "metadata": {
  "kernelspec": {
   "display_name": "Python 3 (ipykernel)",
   "language": "python",
   "name": "python3"
  },
  "language_info": {
   "codemirror_mode": {
    "name": "ipython",
    "version": 3
   },
   "file_extension": ".py",
   "mimetype": "text/x-python",
   "name": "python",
   "nbconvert_exporter": "python",
   "pygments_lexer": "ipython3",
   "version": "3.9.7"
  }
 },
 "nbformat": 4,
 "nbformat_minor": 5
}
